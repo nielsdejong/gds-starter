{
 "cells": [
  {
   "cell_type": "code",
   "execution_count": null,
   "metadata": {},
   "outputs": [],
   "source": [
    "# Set up the Neo4j driver to connect to the local database.\n",
    "from neo4j import GraphDatabase\n",
    "import pandas as pd\n",
    "\n",
    "class NeoDriver(object):\n",
    "\n",
    "    def __init__(self, uri, user, password):\n",
    "        self._driver = GraphDatabase.driver(uri, auth=(user, password))\n",
    "        print(\"Created Neo4j driver. URI=\" + uri)\n",
    "\n",
    "    def close(self):\n",
    "        self._driver.close()\n",
    "\n",
    "    def query(self, query, **kwargs):\n",
    "        with self._driver.session() as session:\n",
    "            return session.write_transaction(self.run_cypher, query, **kwargs)\n",
    "\n",
    "    @staticmethod\n",
    "    def run_cypher(tx, query, **kwargs):\n",
    "        return tx.run(query, **kwargs)\n",
    "    \n",
    "driver = NeoDriver(\"bolt://localhost:7687\", \"neo4j\", \"sunshine\")"
   ]
  },
  {
   "cell_type": "code",
   "execution_count": null,
   "metadata": {},
   "outputs": [],
   "source": [
    "# Run a Cypher query and display the results.\n",
    "result = driver.query(\"\"\"\n",
    "MATCH (p:Product) \n",
    "RETURN p LIMIT 5\n",
    "\"\"\")\n",
    "\n",
    "for row in result.data():\n",
    "    print(row['p']['partNumber'] + \": \" + row['p']['shortDescription'])"
   ]
  },
  {
   "cell_type": "markdown",
   "metadata": {},
   "source": [
    "## Example algorithm - similarity between departments"
   ]
  },
  {
   "cell_type": "code",
   "execution_count": null,
   "metadata": {},
   "outputs": [],
   "source": [
    "# This query drops the graph if it already exists, else it does nothing.\n",
    "driver.query(\"\"\"\n",
    "CALL gds.graph.exists($name) YIELD exists\n",
    "WHERE exists\n",
    "CALL gds.graph.drop($name) yield graphName\n",
    "RETURN *\n",
    "\"\"\", name = 'departments-products')\n",
    "\n",
    "\n",
    "# Create a Cypher projection graph of similar departments (based on shared products) \n",
    "result = driver.query(\"\"\"\n",
    "CALL gds.graph.create.cypher(\n",
    "    'departments-products'\n",
    "    'MATCH (d:Department) RETURN id(d) as id',\n",
    "    'MATCH (d:Department)<-[:HAS_DEPARTMENT]->(p:Product)-[:HAS_DEPARTMENT]->(d2:Department) RETURN id(d) AS source, id(d2) AS target')\n",
    "\"\"\")\n",
    "\n",
    "print(result.data())"
   ]
  },
  {
   "cell_type": "code",
   "execution_count": null,
   "metadata": {},
   "outputs": [],
   "source": [
    "result = driver.query(\"\"\"\n",
    "CALL gds.nodeSimilarity.stream.estimate('departments-products',  { similarityCutoff: 0.5 })\n",
    "\"\"\")\n",
    "\n",
    "for row in result.data():\n",
    "    print(row['requiredMemory'])\n",
    "    print(str(row['nodeCount']) + \" nodes\")\n",
    "    print(str(row['relationshipCount']) + \" rels\")"
   ]
  },
  {
   "cell_type": "code",
   "execution_count": null,
   "metadata": {},
   "outputs": [],
   "source": [
    "result = driver.query(\"\"\"\n",
    "CALL gds.nodeSimilarity.stream('departments-products', { similarityCutoff: 0.75 })\n",
    "\"\"\")\n",
    "\n",
    "df = pd.DataFrame(result.data())\n",
    "print(df)\n"
   ]
  }
 ],
 "metadata": {
  "kernelspec": {
   "display_name": "Python 3",
   "language": "python",
   "name": "python3"
  },
  "language_info": {
   "codemirror_mode": {
    "name": "ipython",
    "version": 3
   },
   "file_extension": ".py",
   "mimetype": "text/x-python",
   "name": "python",
   "nbconvert_exporter": "python",
   "pygments_lexer": "ipython3",
   "version": "3.6.9"
  }
 },
 "nbformat": 4,
 "nbformat_minor": 2
}

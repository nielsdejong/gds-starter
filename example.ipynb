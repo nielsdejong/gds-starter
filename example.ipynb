{
 "cells": [
  {
   "cell_type": "markdown",
   "metadata": {},
   "source": [
    "# Neo4j Graph Data Science Starter Kit\n",
    "This notebook acts as a simple starter kit for using the Neo4j GDS library from Python.\n",
    "It contains code fragments to do the following:\n",
    "1. Set up a connection to Neo4j and read/write data.\n",
    "3. Create graph projections to run your algorithm on.\n",
    "4. Run algorithms and stream back results to Neo4j.\n",
    "5. Use the algorithm results as new features for your predictive models.\n",
    "\n",
    "This example uses the Game of Thrones dataset as present in the Neo4j graph data science sandbox. You can get your own for free here:\n",
    "https://sandbox.neo4j.com/login?usecase=graph-data-science"
   ]
  },
  {
   "cell_type": "markdown",
   "metadata": {},
   "source": [
    "## 1. Setting up the Neo4j Driver\n",
    "Enter your own Neo4j credentials here:"
   ]
  },
  {
   "cell_type": "code",
   "execution_count": 1,
   "metadata": {},
   "outputs": [],
   "source": [
    "url = \"bolt://34.201.68.240:33513\"\n",
    "user = \"neo4j\"\n",
    "password = \"chicken-nuggets\" "
   ]
  },
  {
   "cell_type": "code",
   "execution_count": 2,
   "metadata": {},
   "outputs": [],
   "source": [
    "from neo4j import GraphDatabase\n",
    "driver = GraphDatabase.driver(url, auth=(user, password))\n",
    "neo4j = driver.session()"
   ]
  },
  {
   "cell_type": "markdown",
   "metadata": {},
   "source": [
    "### Example - Reading Neo4j results using the driver"
   ]
  },
  {
   "cell_type": "code",
   "execution_count": 3,
   "metadata": {},
   "outputs": [
    {
     "name": "stdout",
     "output_type": "stream",
     "text": [
      "                    name   age\n",
      "0    Gunthor son of Gurn   NaN\n",
      "1  High Septon (fat_one)   NaN\n",
      "2        Jaime Lannister  39.0\n",
      "3         Gregor Clegane  35.0\n",
      "4            Andros Brax   NaN\n",
      "5           Roose Bolton  45.0\n",
      "6         Wylis Manderly  53.0\n",
      "7          Medger Cerwyn   NaN\n",
      "8       Harrion Karstark   NaN\n",
      "9         Halys Hornwood   NaN\n"
     ]
    }
   ],
   "source": [
    "import pandas as pd\n",
    "result = neo4j.run('MATCH (n:Person) RETURN n.name AS name, n.age as age LIMIT 10')\n",
    "df = pd.DataFrame(result.data())\n",
    "print(df)"
   ]
  },
  {
   "cell_type": "markdown",
   "metadata": {},
   "source": [
    "## 2. Creating a graph projection\n",
    "As an example, we want to analyze which people are most influential using the PageRank algorithm.\n",
    "\n",
    "First, create a graph projection `interactions` that contains only the pattern we are interested in: `(:Person)-[:INTERACTS]->(:Person)`. \n",
    "\n",
    "Then, go through the following steps:\n",
    "- Check if we have enough memory to generate it.\n",
    "- Check if the graph projection already exists, if so, delete it.\n",
    "- Create the graph projection.\n",
    "\n",
    "\n",
    "### Estimating the required size of the projection"
   ]
  },
  {
   "cell_type": "code",
   "execution_count": 4,
   "metadata": {},
   "outputs": [
    {
     "name": "stdout",
     "output_type": "stream",
     "text": [
      "Estimates for creating this graph projection:\n",
      "333 KiB  memory\n",
      "2642  nodes\n",
      "16747  rels\n"
     ]
    }
   ],
   "source": [
    "# Run the Cypher query\n",
    "result = neo4j.run(\"\"\"\n",
    "CALL gds.graph.create.cypher.estimate(\n",
    "    'MATCH (p) WHERE p:Person RETURN id(p) as id',\n",
    "    'MATCH (p)-[:INTERACTS]->(p2:Person) RETURN id(p) AS source, id(p2) AS target')\n",
    "\"\"\")\n",
    "\n",
    "# Print the results\n",
    "row = result.single()\n",
    "print(\"Estimates for creating this graph projection:\")\n",
    "print(row['requiredMemory'], \" memory\")\n",
    "print(row['nodeCount'],\" nodes\")\n",
    "print(row['relationshipCount'],\" rels\")"
   ]
  },
  {
   "cell_type": "markdown",
   "metadata": {},
   "source": [
    "### Clear existing in-memory graph (if it exists)\n"
   ]
  },
  {
   "cell_type": "code",
   "execution_count": 5,
   "metadata": {},
   "outputs": [
    {
     "name": "stdout",
     "output_type": "stream",
     "text": [
      "<Record message='interactions was dropped.'>\n"
     ]
    }
   ],
   "source": [
    "# This query drops the projected graph if it already exists, else it returns 'None'.\n",
    "result = neo4j.run(\"\"\"\n",
    "CALL gds.graph.exists($name) YIELD exists\n",
    "WHERE exists\n",
    "CALL gds.graph.drop($name) YIELD graphName\n",
    "RETURN graphName + \" was dropped.\" as message\n",
    "\"\"\", name = 'interactions')\n",
    "\n",
    "# Print the results\n",
    "print(result.single())"
   ]
  },
  {
   "cell_type": "markdown",
   "metadata": {},
   "source": [
    "### Creating the new graph projection"
   ]
  },
  {
   "cell_type": "code",
   "execution_count": 6,
   "metadata": {},
   "outputs": [
    {
     "name": "stdout",
     "output_type": "stream",
     "text": [
      "2166  nodes projected.\n",
      "3907  rels projected.\n",
      "12  ms to create the projection.\n"
     ]
    }
   ],
   "source": [
    "# Create a weighted Cypher projection graph of (Person)-[:INTERACTS]->(:Person)\n",
    "result = neo4j.run(\"\"\"\n",
    "CALL gds.graph.create.cypher(\n",
    "    'interactions',\n",
    "    'MATCH (p) WHERE p:Person RETURN id(p) as id',\n",
    "    'MATCH (p)-[i:INTERACTS]->(p2:Person) RETURN id(p) AS source, i.weight as weight, id(p2) AS target')\n",
    "\"\"\")\n",
    "\n",
    "# Print the results\n",
    "row = result.single()\n",
    "print(row['nodeCount'], \" nodes projected.\")\n",
    "print(row['relationshipCount'], \" rels projected.\")\n",
    "print(row['createMillis'],\" ms to create the projection.\")"
   ]
  },
  {
   "cell_type": "markdown",
   "metadata": {},
   "source": [
    "## 3. Running graph algorithms\n",
    "Now that we have our graph project, we're ready to run the algorithm!\n",
    "\n",
    "As always, best practice is to first check if we have enough memory for running the algorithm."
   ]
  },
  {
   "cell_type": "code",
   "execution_count": 7,
   "metadata": {},
   "outputs": [
    {
     "name": "stdout",
     "output_type": "stream",
     "text": [
      "84 KiB  memory required to run the algorithm.\n"
     ]
    }
   ],
   "source": [
    "result = neo4j.run(\"\"\"\n",
    "CALL gds.pageRank.stream.estimate('interactions',  { relationshipWeightProperty: 'weight' })\n",
    "\"\"\")\n",
    "\n",
    "print(result.single()['requiredMemory'], ' memory required to run the algorithm.')"
   ]
  },
  {
   "cell_type": "markdown",
   "metadata": {},
   "source": [
    "### Run the algorithm (stream mode)\n",
    "First, use 'stream' mode to inspect the results:"
   ]
  },
  {
   "cell_type": "code",
   "execution_count": 8,
   "metadata": {},
   "outputs": [
    {
     "name": "stdout",
     "output_type": "stream",
     "text": [
      "              character      score\n",
      "0      Tyrion Lannister  16.006423\n",
      "1       Tywin Lannister   8.975134\n",
      "2                 Varys   8.487427\n",
      "3     Stannis Baratheon   8.152841\n",
      "4         Theon Greyjoy   5.456874\n",
      "...                 ...        ...\n",
      "2161     Malaquo Maegyr   0.150000\n",
      "2162              Morgo   0.150000\n",
      "2163      Old Bill Bone   0.150000\n",
      "2164               Scar   0.150000\n",
      "2165      Shrouded Lord   0.150000\n",
      "\n",
      "[2166 rows x 2 columns]\n"
     ]
    }
   ],
   "source": [
    "result = neo4j.run(\"\"\"\n",
    "CALL gds.pageRank.stream('interactions', { relationshipWeightProperty: 'weight'}) \n",
    "YIELD nodeId, score\n",
    "RETURN gds.util.asNode(nodeId).name as character, score \n",
    "ORDER BY score DESC\n",
    "\"\"\")\n",
    "\n",
    "df = pd.DataFrame(result.data())\n",
    "print(df)"
   ]
  },
  {
   "cell_type": "markdown",
   "metadata": {},
   "source": [
    "### Run the algorithm (write mode)\n",
    "Then, use 'write' mode to write the results back to the Neo4j database."
   ]
  },
  {
   "cell_type": "code",
   "execution_count": 9,
   "metadata": {},
   "outputs": [
    {
     "name": "stdout",
     "output_type": "stream",
     "text": [
      "[{'computeMillis': 48,\n",
      "  'configuration': {'cacheWeights': False,\n",
      "                    'concurrency': 4,\n",
      "                    'dampingFactor': 0.85,\n",
      "                    'maxIterations': 20,\n",
      "                    'nodeLabels': ['*'],\n",
      "                    'relationshipTypes': ['*'],\n",
      "                    'relationshipWeightProperty': 'weight',\n",
      "                    'sourceNodes': [],\n",
      "                    'sudo': False,\n",
      "                    'tolerance': 1e-07,\n",
      "                    'writeConcurrency': 4,\n",
      "                    'writeProperty': 'pageRank'},\n",
      "  'createMillis': 0,\n",
      "  'didConverge': True,\n",
      "  'nodePropertiesWritten': 2166,\n",
      "  'ranIterations': 15,\n",
      "  'writeMillis': 3}]\n"
     ]
    }
   ],
   "source": [
    "import pprint \n",
    "\n",
    "result = neo4j.run(\"\"\"\n",
    "CALL gds.pageRank.write('interactions', { writeProperty: 'pageRank', relationshipWeightProperty: 'weight' })\n",
    "\"\"\")\n",
    "\n",
    "pprint.pprint(result.data())"
   ]
  },
  {
   "cell_type": "markdown",
   "metadata": {},
   "source": [
    "## 4. Using graph features in ML\n",
    "Now that we have the PageRank of each of the people in the Game of Thrones dataset, lets use it as a predictor variable.\n",
    "\n",
    "We're going to predict whether a character will die based on `age`, `gender`, `is_knight`, `house` and `pageRank` of the corresponding node:"
   ]
  },
  {
   "cell_type": "code",
   "execution_count": 10,
   "metadata": {},
   "outputs": [
    {
     "name": "stdout",
     "output_type": "stream",
     "text": [
      "                 name  age  gender  is_knight       house   pagerank  is_dead\n",
      "0    Tyrion Lannister   32    male      False   Lannister  16.006423    False\n",
      "1     Tywin Lannister   58    male      False   Lannister   8.975134     True\n",
      "2       Theon Greyjoy   27    male      False     Greyjoy   5.456874    False\n",
      "3         Sansa Stark   19  female      False       Stark   4.504770    False\n",
      "4         Walder Frey   97    male      False        Frey   4.160120    False\n",
      "..                ...  ...     ...        ...         ...        ...      ...\n",
      "407  Walder Goodbrook   15    male      False   Goodbrook   0.150000    False\n",
      "408           Nettles  100  female      False      Blacks   0.150000     True\n",
      "409  Humfrey Wagstaff   75  female       True    Wagstaff   0.150000    False\n",
      "410  Lucos Chyttering   22    male      False  Chyttering   0.150000    False\n",
      "411      Criston Cole   48    male       True        Cole   0.150000     True\n",
      "\n",
      "[412 rows x 7 columns]\n"
     ]
    }
   ],
   "source": [
    "# Consider only the characters that have a defined age.\n",
    "result = neo4j.run(\n",
    "\"\"\"\n",
    "MATCH (p:Person)\n",
    "WHERE p.age >= 0\n",
    "MATCH (p)-[:BELONGS_TO]->(h:House) \n",
    "RETURN p.name as name, p.age as age, p.gender as gender,(p:Knight) as is_knight,\n",
    "       collect(h.name)[0] as house, p.pageRank as pagerank, (p:Dead) as is_dead \n",
    "ORDER BY pagerank DESC\n",
    "\"\"\")\n",
    "\n",
    "df = pd.DataFrame(result.data())\n",
    "print(df)"
   ]
  },
  {
   "cell_type": "markdown",
   "metadata": {},
   "source": [
    "###  Process the data into a format the model expects"
   ]
  },
  {
   "cell_type": "code",
   "execution_count": 11,
   "metadata": {},
   "outputs": [
    {
     "name": "stdout",
     "output_type": "stream",
     "text": [
      "        house  gender   age  is_knight  pagerank  is_dead\n",
      "0    0.000000     0.0  0.32        0.0  1.000000      0.0\n",
      "1    0.000000     0.0  0.58        0.0  0.556565      1.0\n",
      "2    0.015385     0.0  0.27        0.0  0.334683      0.0\n",
      "3    0.030769     1.0  0.19        0.0  0.274638      0.0\n",
      "4    0.046154     0.0  0.97        0.0  0.252902      0.0\n",
      "..        ...     ...   ...        ...       ...      ...\n",
      "407  0.938462     0.0  0.15        0.0  0.000000      0.0\n",
      "408  0.953846     1.0  1.00        0.0  0.000000      1.0\n",
      "409  0.969231     1.0  0.75        1.0  0.000000      0.0\n",
      "410  0.984615     0.0  0.22        0.0  0.000000      0.0\n",
      "411  1.000000     0.0  0.48        1.0  0.000000      1.0\n",
      "\n",
      "[412 rows x 6 columns]\n"
     ]
    }
   ],
   "source": [
    "# Factorize non-numeric columns\n",
    "from sklearn.preprocessing import MinMaxScaler\n",
    "\n",
    "genders = pd.DataFrame(pd.factorize(df['gender'])[0])\n",
    "knight = pd.DataFrame(pd.factorize(df['is_knight'])[0])\n",
    "houses = pd.DataFrame(pd.factorize(df['house'])[0])\n",
    "dead  = pd.DataFrame(pd.factorize(df['is_dead'])[0])\n",
    "\n",
    "# Convert to normalized data.\n",
    "data = pd.concat([houses, genders, df['age'], df['is_knight'], df['pagerank'], dead], axis=1) \n",
    "data.columns = ['house', 'gender', 'age', 'is_knight', 'pagerank', 'is_dead']\n",
    "scaler = MinMaxScaler() \n",
    "scaled_values = scaler.fit_transform(data) \n",
    "data.loc[:,:] = scaled_values\n",
    "\n",
    "print(data)"
   ]
  },
  {
   "cell_type": "markdown",
   "metadata": {},
   "source": [
    "### Training the model\n",
    "Lets see how much we can boost the model accuracy by using `pagerank` as a feature.\n",
    "\n",
    "We train two models and compare their AUC scores:\n",
    "1. A RandomForestClassifier that uses `[gender, house, age, is_knight]` to predict `is_dead`.\n",
    "2. A RandomForestClassifier that uses `[gender, house, age, is_knight, pagerank]` to predict `is_dead`."
   ]
  },
  {
   "cell_type": "code",
   "execution_count": 12,
   "metadata": {},
   "outputs": [
    {
     "name": "stdout",
     "output_type": "stream",
     "text": [
      "auc score without pagerank:  0.7049278846153847\n",
      "auc score with pagerank:  0.7664663461538461\n"
     ]
    }
   ],
   "source": [
    "from sklearn.ensemble import RandomForestClassifier\n",
    "from sklearn.model_selection import StratifiedShuffleSplit\n",
    "from sklearn.model_selection import cross_val_score\n",
    "\n",
    "X_old = data[['gender', 'house', 'age', 'is_knight',]]\n",
    "X_new = data[['gender', 'house', 'age', 'is_knight', 'pagerank']]\n",
    "y = data['is_dead']\n",
    "\n",
    "clf = RandomForestClassifier(random_state=0, class_weight=\"balanced\", n_estimators=10)\n",
    "cv = StratifiedShuffleSplit(random_state=0)\n",
    "\n",
    "print(\"auc score without pagerank: \", cross_val_score(clf, X_old, y, cv=cv, scoring='roc_auc').mean())\n",
    "print(\"auc score with pagerank: \", cross_val_score(clf, X_new, y, cv=cv, scoring='roc_auc').mean())"
   ]
  },
  {
   "cell_type": "markdown",
   "metadata": {},
   "source": [
    "We're seeing a slight improvement when adding our new feature - however, we're going to need a lot more data to get a good model. \n",
    "\n",
    "Keep in mind this dataset is tiny: it's naturally very subceptible to randomness in the classifier and choice of train/test split. "
   ]
  },
  {
   "cell_type": "markdown",
   "metadata": {},
   "source": [
    "## What's next?\n",
    "to learn more about the different execution modes of algorithms:\n",
    "https://neo4j.com/docs/graph-data-science/current/common-usage/running-algos/\n",
    "\n",
    "To speed up your process, consider looking into native projections:\n",
    "https://neo4j.com/docs/graph-data-science/current/management-ops/native-projection/.\n",
    "\n",
    "Read the docs on other algorithms, tips for modeling your data, and algo configurations:\n",
    "https://neo4j.com/docs/graph-data-science/current/introduction/\n"
   ]
  }
 ],
 "metadata": {
  "kernelspec": {
   "display_name": "Python 3",
   "language": "python",
   "name": "python3"
  },
  "language_info": {
   "codemirror_mode": {
    "name": "ipython",
    "version": 3
   },
   "file_extension": ".py",
   "mimetype": "text/x-python",
   "name": "python",
   "nbconvert_exporter": "python",
   "pygments_lexer": "ipython3",
   "version": "3.6.9"
  }
 },
 "nbformat": 4,
 "nbformat_minor": 2
}

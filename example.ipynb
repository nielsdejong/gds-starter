{
 "cells": [
  {
   "cell_type": "markdown",
   "metadata": {},
   "source": [
    "## Example -  setting up the Neo4j Driver"
   ]
  },
  {
   "cell_type": "code",
   "execution_count": null,
   "metadata": {},
   "outputs": [],
   "source": [
    "url = \"bolt://localhost:7687\"\n",
    "user = \"neo4j\"\n",
    "password = \"sunshine\""
   ]
  },
  {
   "cell_type": "code",
   "execution_count": null,
   "metadata": {},
   "outputs": [],
   "source": [
    "from neo4j import GraphDatabase\n",
    "import pandas as pd\n",
    "import pprint\n",
    "\n",
    "class NeoDriver(object):\n",
    "\n",
    "    def __init__(self, uri, user, password):\n",
    "        self._driver = GraphDatabase.driver(uri, auth=(user, password))\n",
    "        print(\"Created Neo4j driver. URI=\" + uri)\n",
    "\n",
    "    def close(self):\n",
    "        self._driver.close()\n",
    "\n",
    "    def query(self, query, **kwargs):\n",
    "        with self._driver.session() as session:\n",
    "            return session.write_transaction(self.run_cypher, query, **kwargs)\n",
    "\n",
    "    @staticmethod\n",
    "    def run_cypher(tx, query, **kwargs):\n",
    "        return tx.run(query, **kwargs)\n",
    "    \n",
    "driver = NeoDriver(url, user, password)"
   ]
  },
  {
   "cell_type": "markdown",
   "metadata": {},
   "source": [
    "## Example - Reading Neo4j results"
   ]
  },
  {
   "cell_type": "code",
   "execution_count": null,
   "metadata": {},
   "outputs": [],
   "source": [
    "# Run a Cypher query and display the results.\n",
    "result = driver.query(\"\"\"\n",
    "MATCH (p:Product) \n",
    "RETURN p LIMIT 5\n",
    "\"\"\")\n",
    "\n",
    "for row in result.data():\n",
    "    print(row['p']['partNumber'] + \": \" + row['p']['shortDescription'])"
   ]
  },
  {
   "cell_type": "markdown",
   "metadata": {},
   "source": [
    "## Example algorithm - similarity between departments\n",
    "### Step 1 - estimate required size"
   ]
  },
  {
   "cell_type": "code",
   "execution_count": null,
   "metadata": {},
   "outputs": [],
   "source": [
    "# Create a Cypher projection graph of similar departments (based on shared products) \n",
    "result = driver.query(\"\"\"\n",
    "CALL gds.graph.create.cypher.estimate(\n",
    "    'MATCH (d:Department) RETURN id(d) as id',\n",
    "    'MATCH (d:Department)<-[:HAS_DEPARTMENT]->(p:Product)-[:HAS_DEPARTMENT]->(d2:Department) RETURN id(d) AS source, id(d2) AS target')\n",
    "\"\"\")\n",
    "\n",
    "for row in result.data():\n",
    "    print(row['requiredMemory'] + \" memory required\")\n",
    "    print(str(row['nodeCount']) + \" nodes expected\")\n",
    "    print(str(row['relationshipCount']) + \" rels expected\")"
   ]
  },
  {
   "cell_type": "markdown",
   "metadata": {},
   "source": [
    "### Step 2 - clear existing in-memory graph"
   ]
  },
  {
   "cell_type": "code",
   "execution_count": null,
   "metadata": {},
   "outputs": [],
   "source": [
    "# This query drops the graph if it already exists, else it does nothing.\n",
    "result = driver.query(\"\"\"\n",
    "CALL gds.graph.exists($name) YIELD exists\n",
    "WHERE exists\n",
    "CALL gds.graph.drop($name) yield graphName\n",
    "RETURN *\n",
    "\"\"\", name = 'departments-products')\n",
    "\n",
    "print(result.data())\n"
   ]
  },
  {
   "cell_type": "markdown",
   "metadata": {},
   "source": [
    "### Step 3: create new graph projection"
   ]
  },
  {
   "cell_type": "code",
   "execution_count": null,
   "metadata": {},
   "outputs": [],
   "source": [
    "# Create a Cypher projection graph of similar departments (based on shared products) \n",
    "result = driver.query(\"\"\"\n",
    "CALL gds.graph.create.cypher(\n",
    "    'departments-products',\n",
    "    'MATCH (d:Department) RETURN id(d) as id',\n",
    "    'MATCH (d:Department)<-[:HAS_DEPARTMENT]->(p:Product)-[:HAS_DEPARTMENT]->(d2:Department) RETURN id(d) AS source, id(d2) AS target')\n",
    "\"\"\")\n",
    "\n",
    "for row in result.data():\n",
    "    print(str(row['nodeCount']) + \" nodes projected\")\n",
    "    print(str(row['relationshipCount']) + \" rels projected\")\n",
    "    print(str(row['createMillis']) + \" ms to create\")"
   ]
  },
  {
   "cell_type": "markdown",
   "metadata": {},
   "source": [
    "### Step 4: estimate algorithm memory"
   ]
  },
  {
   "cell_type": "code",
   "execution_count": null,
   "metadata": {},
   "outputs": [],
   "source": [
    "result = driver.query(\"\"\"\n",
    "CALL gds.nodeSimilarity.stream.estimate('departments-products',  { similarityCutoff: 0.5 })\n",
    "\"\"\")\n",
    "\n",
    "print(result.data()[0]['requiredMemory'] + ' memory required')"
   ]
  },
  {
   "cell_type": "markdown",
   "metadata": {},
   "source": [
    "### Step 5 - run the algorithm (stream mode)\n"
   ]
  },
  {
   "cell_type": "code",
   "execution_count": null,
   "metadata": {},
   "outputs": [],
   "source": [
    "result = driver.query(\"\"\"\n",
    "CALL gds.nodeSimilarity.stream('departments-products', { similarityCutoff: 0.75 })\n",
    "\"\"\")\n",
    "\n",
    "df = pd.DataFrame(result.data())\n",
    "print(df)\n"
   ]
  },
  {
   "cell_type": "markdown",
   "metadata": {},
   "source": [
    "### Step 5 - run the algorithm (stats mode)"
   ]
  },
  {
   "cell_type": "code",
   "execution_count": null,
   "metadata": {},
   "outputs": [],
   "source": [
    "result = driver.query(\"\"\"\n",
    "CALL gds.nodeSimilarity.stats('departments-products', { similarityCutoff: 0.75 })\n",
    "\"\"\")\n",
    "\n",
    "pprint.pprint(result.data())"
   ]
  },
  {
   "cell_type": "markdown",
   "metadata": {},
   "source": [
    "### Step 5 - run the algorithm (write mode)"
   ]
  },
  {
   "cell_type": "code",
   "execution_count": null,
   "metadata": {},
   "outputs": [],
   "source": [
    "driver.query(\"\"\"\n",
    "MATCH (:Department)-[s:SIMILAR_TO]->(:Department)\n",
    "DELETE s\n",
    "\"\"\")\n",
    "\n",
    "result = driver.query(\"\"\"\n",
    "CALL gds.nodeSimilarity.write('departments-products', { writeProperty: 'similarity', writeRelationshipType: 'SIMILAR_TO', similarityCutoff: 0.75})\n",
    "\"\"\")\n",
    "\n",
    "pprint.pprint(result.data())"
   ]
  },
  {
   "cell_type": "code",
   "execution_count": null,
   "metadata": {},
   "outputs": [],
   "source": []
  }
 ],
 "metadata": {
  "kernelspec": {
   "display_name": "Python 3",
   "language": "python",
   "name": "python3"
  },
  "language_info": {
   "codemirror_mode": {
    "name": "ipython",
    "version": 3
   },
   "file_extension": ".py",
   "mimetype": "text/x-python",
   "name": "python",
   "nbconvert_exporter": "python",
   "pygments_lexer": "ipython3",
   "version": "3.6.9"
  }
 },
 "nbformat": 4,
 "nbformat_minor": 2
}
